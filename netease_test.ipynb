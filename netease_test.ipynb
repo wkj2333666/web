{
 "cells": [
  {
   "cell_type": "code",
   "execution_count": null,
   "id": "42bc0ed8",
   "metadata": {},
   "outputs": [],
   "source": [
    "import re\n",
    "import requests\n",
    "import lxml\n",
    "import pandas as pd\n",
    "from bs4 import BeautifulSoup as bs"
   ]
  },
  {
   "cell_type": "code",
   "execution_count": null,
   "id": "201f51b3",
   "metadata": {},
   "outputs": [],
   "source": [
    "netease_singers_url = r'https://music.163.com/discover/artist/cat?id=1001'\n",
    "headers = {\n",
    "    \"User-Agent\": \"Mozilla/5.0 (X11; Linux x86_64; rv:140.0) Gecko/20100101 Firefox/140.0\",\n",
    "    \"Accept\": \"text/html,application/xhtml+xml,application/xml;q=0.9,*/*;q=0.8\",\n",
    "    \"Accept-Language\": \"en-US,en;q=0.5\",\n",
    "    \"Accept-Encoding\": \"utf-8\",\n",
    "    \"Connection\": \"keep-alive\",\n",
    "    \"Referer\": \"https://music.163.com/\",\n",
    "    \"Upgrade-Insecure-Requests\": \"1\",\n",
    "    \"Sec-Fetch-Dest\": \"iframe\",\n",
    "    \"Sec-Fetch-Mode\": \"navigate\",\n",
    "    \"Sec-Fetch-Site\": \"same-origin\",\n",
    "    \"Priority\": \"u=4\",\n",
    "    \"TE\": \"trailers\"\n",
    "}\n",
    "cookies = {\n",
    "    '__csrf'         :  \"e69faeccd93a14d89ccd4adaed646804\",\n",
    "    '__snaker__id'\t :  \"2mTQGljb7kvL842G\",\n",
    "    '_iuqxldmzr_'\t :  \"32\",\n",
    "    '_ntes_nnid'\t :  \"fafe5ac96e2d4ae498fca20fb41d0dc8,1750860195486\",\n",
    "    '_ntes_nuid'\t :  \"fafe5ac96e2d4ae498fca20fb41d0dc8\",\n",
    "    'csrfToken'\t     :  \"ZfVV9cRIAgXWdd56noaXflY5\",\n",
    "    'gdxidpyhxdE'    :  \"hdVn9iYxQt1EMBRLipauqgUfVzM6lPgrSSoG\\\\+zGqsAwfCAGW39rntkGIwURsvnva9dtvT1PmnCL0ZdWe6BZAIbp2/vQXwWLKXHOUaEpQ/kK8e3Oix0ahXu/M8NR+wlg1fLm1dgtjwcbJ+1glTs92oYxfqZjluGpHymRHPKqE2zzySO+:1751019940224\",\n",
    "    'JSESSIONID-WYYY':\t\"2+\\\\uNX25zzTYHlkjgvte3U27lslNxjixte4Gh\\\\C\\\\5x3G6SqQCfmGENW3Xg9gjzipo/s0ukj5v2QT88DDdP9opdk2C42SwXfMd1dTyOcs64U/X9zGQPFOr8mryUCQDoPQ5VSv/E3c9zabfkFSY4Yjscr97rWyMjGdkrdIqd8gg2a70yMM:1751019798915\",\n",
    "    'MUSIC_U'\t     :  \"0033B13615A496B22EB00B5690DBD70B1C27639A95C33DEACE4F002C5823958B4AD6E80C1E592F52622EF7C610D46FC0EE525B07ED1C1C2E8C53DA638256F623C34D96B308D77D2AE71EA670B6BE86C6B59B0B90BA1F7EA95B43AB07262247AA6768BBC881D3A2515829DAB90CDFA912AD39E243329B06F6FA64C5FE0662EBE4AABB271CA287A8F65A443E8B7F3CD9341059EA0A22A2C7601145605258AADE11F81C6DD9269AAE7065995D376DC350CB6EC128F06E262C117D1AD7AA18B31CDADCF4053789CC4B41FD69351188312281F9B7487559FC5ACB4BFE40E977345AB584E2D1BFFC33C0CD3BDB1C4B829A0F79DF01F3E4D6E0BD4EDDA491CD337FC3C3713BC912CE280DEFB1BCFA7A857E4B3A9243792B70A51DE516765201DEF46B15D1CD34EA4BA7A62B8A1C99F5409950212F\",\n",
    "    'NMTID'\t         :  \"00ORRrO9Mr7TBwzukUvj96KI48ymJUAAAGXp2Zncg\",\n",
    "    'ntes_kaola_ad'\t :  \"1\",\n",
    "    'ntes_utid'\t     :  \"tid._.%2BChCgTThg5lFUgARFRPTbsk%2FKGh6yRzI._.0\",\n",
    "    'sDeviceId'\t     :  \"YD-nekKbrguHYNEB0AQFEKCask+PDl/2Fyd\",\n",
    "    'WEVNSM'\t     :  \"1.0.0\",\n",
    "    'WM_NI'\t         :  \"Zy2YxEL2rvKOjuOuOQgVBpqV76Yt8FtEcS6pSTBSPDqYSl4lzTmO+Htb+b/xxv2gIgWtqXIWyd7iOFG0Exl1JLE6G/KgbpHCtznBIJ2g0ZCNqFH//cv1BuKp/hVyzq9rWXo=\",\n",
    "    'WM_NIKE'\t     :  \"9ca17ae2e6ffcda170e2e6eea2f97e9a958393db4e878e8fa3d85b879f9b86d26ef7a6a88ee1339abb8c84d02af0fea7c3b92a9aa7febafb4f90eebe97ca45aaab8196ce5ba58a8e91f45ef5ea9795bb4eb89badb4b57c918c8eb4d350b3879d8db768ba8ca3b0aa44b8bee583ae74bcaafe88cc6d95acbfb9cc5dbbbcf98ace4e85f08b99ef3b8a948bd7c62589b9ae91cb49b8a6a2a3cc42f2b900bbc246b39a88d0ae69b6ef8e96ca7cedb89a9af97bfbae99b9ee37e2a3\",\n",
    "    'WM_TID'\t     :  \"KA7NcHQUjuRFVERBRVPWL5x/LH0/T9Dy\",\n",
    "    'WNMCID'\t     :  \"aomccp.1750860197302.01.0\",\n",
    "}\n",
    "netease_singers_response = requests.get(url=netease_singers_url,\n",
    "                                        params={},\n",
    "                                        headers=headers,\n",
    "                                        cookies=cookies,\n",
    "                                        allow_redirects=True)\n",
    "# netease_singers_response.encoding = 'utf-8'\n",
    "netease_singers_male = netease_singers_response.text\n",
    "netease_singers_male"
   ]
  },
  {
   "cell_type": "code",
   "execution_count": null,
   "id": "faf1f2cf",
   "metadata": {},
   "outputs": [],
   "source": [
    "netease_singers_male_soup = bs(netease_singers_male, 'lxml')\n",
    "print(netease_singers_male_soup.prettify())"
   ]
  },
  {
   "cell_type": "code",
   "execution_count": null,
   "id": "f8f67ed4",
   "metadata": {},
   "outputs": [],
   "source": [
    "singers_male = netease_singers_male_soup.find_all('a',\n",
    "                                                  href=re.compile(r'artist\\?id'),\n",
    "                                                  class_='nm nm-icn f-thide s-fc0')\n",
    "singers_male"
   ]
  },
  {
   "cell_type": "code",
   "execution_count": null,
   "id": "682e219a",
   "metadata": {},
   "outputs": [],
   "source": [
    "singers_male[0]"
   ]
  },
  {
   "cell_type": "code",
   "execution_count": null,
   "id": "527f590f",
   "metadata": {},
   "outputs": [],
   "source": [
    "singers_male_names = [singer_name.text for singer_name in singers_male]\n",
    "# singers_male_names.remove('')\n",
    "singers_male_names"
   ]
  },
  {
   "cell_type": "code",
   "execution_count": null,
   "id": "95c9c25e",
   "metadata": {},
   "outputs": [],
   "source": [
    "singers_male_links = [singer_link['href'].strip() for singer_link in singers_male]\n",
    "singers_male_links"
   ]
  },
  {
   "cell_type": "code",
   "execution_count": null,
   "id": "24faa308",
   "metadata": {},
   "outputs": [],
   "source": [
    "len(singers_male_links) == len(singers_male_names)"
   ]
  },
  {
   "cell_type": "code",
   "execution_count": null,
   "id": "779680f3",
   "metadata": {},
   "outputs": [],
   "source": [
    "df_singers_male = pd.DataFrame({\n",
    "    '歌手': pd.Series(singers_male_names),\n",
    "    '链接': (r'https://music.163.com' + pd.Series(singers_male_links))\n",
    "})"
   ]
  },
  {
   "cell_type": "code",
   "execution_count": null,
   "id": "85151ad7",
   "metadata": {},
   "outputs": [],
   "source": [
    "df_singers_male.to_csv('./男歌手.csv', sep=',', header=True, index=False)"
   ]
  },
  {
   "cell_type": "code",
   "execution_count": null,
   "id": "fc3d2415",
   "metadata": {},
   "outputs": [],
   "source": []
  }
 ],
 "metadata": {
  "kernelspec": {
   "display_name": "web",
   "language": "python",
   "name": "python3"
  },
  "language_info": {
   "codemirror_mode": {
    "name": "ipython",
    "version": 3
   },
   "file_extension": ".py",
   "mimetype": "text/x-python",
   "name": "python",
   "nbconvert_exporter": "python",
   "pygments_lexer": "ipython3",
   "version": "3.13.5"
  }
 },
 "nbformat": 4,
 "nbformat_minor": 5
}
