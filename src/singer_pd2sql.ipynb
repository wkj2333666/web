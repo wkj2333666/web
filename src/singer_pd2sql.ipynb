{
 "cells": [
  {
   "cell_type": "code",
   "execution_count": 13,
   "id": "0450755a",
   "metadata": {},
   "outputs": [],
   "source": [
    "import numpy as np\n",
    "import pandas as pd\n",
    "import re\n",
    "import requests\n",
    "import lxml\n",
    "from bs4 import BeautifulSoup as bs\n",
    "from tqdm import tqdm\n",
    "import time\n",
    "import config\n",
    "import sqlite3\n",
    "import json"
   ]
  },
  {
   "cell_type": "code",
   "execution_count": 14,
   "id": "97c0ee14",
   "metadata": {},
   "outputs": [],
   "source": [
    "src_file = config.WORKSPACE + 'data/singer_info.json'\n",
    "df = pd.read_json(src_file, lines=True, orient='records')\n",
    "conn = sqlite3.Connection(\"../TestWeb/db.sqlite3\")\n",
    "table_name = 'SingerInfo_singer_info'"
   ]
  },
  {
   "cell_type": "code",
   "execution_count": 15,
   "id": "600e1308",
   "metadata": {},
   "outputs": [],
   "source": [
    "df.drop(['img_url'], axis=1, inplace=True)"
   ]
  },
  {
   "cell_type": "code",
   "execution_count": null,
   "id": "b07df051",
   "metadata": {},
   "outputs": [],
   "source": [
    "list_column = df.columns[3] \n",
    "\n",
    "df[list_column] = df[list_column].apply(json.dumps, ensure_ascii=False)"
   ]
  },
  {
   "cell_type": "code",
   "execution_count": 17,
   "id": "06a65d62",
   "metadata": {},
   "outputs": [
    {
     "data": {
      "text/html": [
       "<div>\n",
       "<style scoped>\n",
       "    .dataframe tbody tr th:only-of-type {\n",
       "        vertical-align: middle;\n",
       "    }\n",
       "\n",
       "    .dataframe tbody tr th {\n",
       "        vertical-align: top;\n",
       "    }\n",
       "\n",
       "    .dataframe thead th {\n",
       "        text-align: right;\n",
       "    }\n",
       "</style>\n",
       "<table border=\"1\" class=\"dataframe\">\n",
       "  <thead>\n",
       "    <tr style=\"text-align: right;\">\n",
       "      <th></th>\n",
       "      <th>singer_name</th>\n",
       "      <th>singer_id</th>\n",
       "      <th>singer_abstract</th>\n",
       "      <th>songs</th>\n",
       "    </tr>\n",
       "  </thead>\n",
       "  <tbody>\n",
       "    <tr>\n",
       "      <th>0</th>\n",
       "      <td>AGA</td>\n",
       "      <td>768208</td>\n",
       "      <td>AGA，原名江海迦，英文名Agatha Kong，1988年1月21日出生。香港创作女歌手，...</td>\n",
       "      <td>[{\"song_id\": 421486605, \"song_name\": \"孤雏\"}, {\"...</td>\n",
       "    </tr>\n",
       "    <tr>\n",
       "      <th>1</th>\n",
       "      <td>Aioz</td>\n",
       "      <td>29235210</td>\n",
       "      <td>X-X 你好 我叫 Aioz</td>\n",
       "      <td>[{\"song_id\": 1908049566, \"song_name\": \"算了吧\"}, ...</td>\n",
       "    </tr>\n",
       "    <tr>\n",
       "      <th>2</th>\n",
       "      <td>Aki阿杰</td>\n",
       "      <td>188558</td>\n",
       "      <td>歌手，以厚重有质感的御姐音成名。\\n代表作：《牵丝戏》、《东风志》、《何以歌》、《叙世》等。</td>\n",
       "      <td>[{\"song_id\": 30352891, \"song_name\": \"牵丝戏\"}, {\"...</td>\n",
       "    </tr>\n",
       "    <tr>\n",
       "      <th>3</th>\n",
       "      <td>Capper</td>\n",
       "      <td>12193174</td>\n",
       "      <td>Capper，唱作音乐人、平面设计师、街头艺术家。\\nCapper,whose real n...</td>\n",
       "      <td>[{\"song_id\": 2026224214, \"song_name\": \"雪 Dista...</td>\n",
       "    </tr>\n",
       "    <tr>\n",
       "      <th>4</th>\n",
       "      <td>DJ阿布</td>\n",
       "      <td>58160751</td>\n",
       "      <td>DJ阿布小号 定制：DJAB88888888</td>\n",
       "      <td>[{\"song_id\": 2630594930, \"song_name\": \"牵丝戏（DJ阿...</td>\n",
       "    </tr>\n",
       "    <tr>\n",
       "      <th>...</th>\n",
       "      <td>...</td>\n",
       "      <td>...</td>\n",
       "      <td>...</td>\n",
       "      <td>...</td>\n",
       "    </tr>\n",
       "    <tr>\n",
       "      <th>195</th>\n",
       "      <td>鹿晗</td>\n",
       "      <td>1038093</td>\n",
       "      <td>鹿晗（LU HAN），1990年4月20日出生于北京，中国男演员、歌手。\\n2008年，鹿晗...</td>\n",
       "      <td>[{\"song_id\": 29771231, \"song_name\": \"我们的明天\"}, ...</td>\n",
       "    </tr>\n",
       "    <tr>\n",
       "      <th>196</th>\n",
       "      <td>黄丽玲</td>\n",
       "      <td>7063</td>\n",
       "      <td>获第34届金曲奖「最佳华语女歌手」，多首代表作于YouTube突破千万点击，如《忘记拥抱》、...</td>\n",
       "      <td>[{\"song_id\": 507364094, \"song_name\": \"无人知晓的我\"}...</td>\n",
       "    </tr>\n",
       "    <tr>\n",
       "      <th>197</th>\n",
       "      <td>黄子弘凡</td>\n",
       "      <td>34862670</td>\n",
       "      <td>黄子弘凡，1999年4月21日出生于甘肃兰州，四川成都长大，中国内地男歌手，影视剧演员。 2...</td>\n",
       "      <td>[{\"song_id\": 2704605037, \"song_name\": \"一点 (Liv...</td>\n",
       "    </tr>\n",
       "    <tr>\n",
       "      <th>198</th>\n",
       "      <td>黄诗扶</td>\n",
       "      <td>12308369</td>\n",
       "      <td>composer / producer / singer / erhu / keyboard...</td>\n",
       "      <td>[{\"song_id\": 1335942780, \"song_name\": \"九万字\"}, ...</td>\n",
       "    </tr>\n",
       "    <tr>\n",
       "      <th>199</th>\n",
       "      <td>黄龄</td>\n",
       "      <td>7890</td>\n",
       "      <td>中国上海青年女歌手，先后发行了《痒》《特别》两张国语专辑，她别具魅力的音乐风格引起业界各方的...</td>\n",
       "      <td>[{\"song_id\": 28854182, \"song_name\": \"惊鸿一面\"}, {...</td>\n",
       "    </tr>\n",
       "  </tbody>\n",
       "</table>\n",
       "<p>200 rows × 4 columns</p>\n",
       "</div>"
      ],
      "text/plain": [
       "    singer_name  singer_id                                    singer_abstract  \\\n",
       "0           AGA     768208  AGA，原名江海迦，英文名Agatha Kong，1988年1月21日出生。香港创作女歌手，...   \n",
       "1          Aioz   29235210                                    X-X 你好 我叫 Aioz    \n",
       "2         Aki阿杰     188558     歌手，以厚重有质感的御姐音成名。\\n代表作：《牵丝戏》、《东风志》、《何以歌》、《叙世》等。   \n",
       "3        Capper   12193174  Capper，唱作音乐人、平面设计师、街头艺术家。\\nCapper,whose real n...   \n",
       "4          DJ阿布   58160751                             DJ阿布小号 定制：DJAB88888888   \n",
       "..          ...        ...                                                ...   \n",
       "195          鹿晗    1038093  鹿晗（LU HAN），1990年4月20日出生于北京，中国男演员、歌手。\\n2008年，鹿晗...   \n",
       "196         黄丽玲       7063  获第34届金曲奖「最佳华语女歌手」，多首代表作于YouTube突破千万点击，如《忘记拥抱》、...   \n",
       "197        黄子弘凡   34862670  黄子弘凡，1999年4月21日出生于甘肃兰州，四川成都长大，中国内地男歌手，影视剧演员。 2...   \n",
       "198         黄诗扶   12308369  composer / producer / singer / erhu / keyboard...   \n",
       "199          黄龄       7890  中国上海青年女歌手，先后发行了《痒》《特别》两张国语专辑，她别具魅力的音乐风格引起业界各方的...   \n",
       "\n",
       "                                                 songs  \n",
       "0    [{\"song_id\": 421486605, \"song_name\": \"孤雏\"}, {\"...  \n",
       "1    [{\"song_id\": 1908049566, \"song_name\": \"算了吧\"}, ...  \n",
       "2    [{\"song_id\": 30352891, \"song_name\": \"牵丝戏\"}, {\"...  \n",
       "3    [{\"song_id\": 2026224214, \"song_name\": \"雪 Dista...  \n",
       "4    [{\"song_id\": 2630594930, \"song_name\": \"牵丝戏（DJ阿...  \n",
       "..                                                 ...  \n",
       "195  [{\"song_id\": 29771231, \"song_name\": \"我们的明天\"}, ...  \n",
       "196  [{\"song_id\": 507364094, \"song_name\": \"无人知晓的我\"}...  \n",
       "197  [{\"song_id\": 2704605037, \"song_name\": \"一点 (Liv...  \n",
       "198  [{\"song_id\": 1335942780, \"song_name\": \"九万字\"}, ...  \n",
       "199  [{\"song_id\": 28854182, \"song_name\": \"惊鸿一面\"}, {...  \n",
       "\n",
       "[200 rows x 4 columns]"
      ]
     },
     "execution_count": 17,
     "metadata": {},
     "output_type": "execute_result"
    }
   ],
   "source": [
    "df"
   ]
  },
  {
   "cell_type": "code",
   "execution_count": 18,
   "id": "cc27307f",
   "metadata": {},
   "outputs": [
    {
     "data": {
      "text/plain": [
       "200"
      ]
     },
     "execution_count": 18,
     "metadata": {},
     "output_type": "execute_result"
    }
   ],
   "source": [
    "df.to_sql(table_name, con=conn, if_exists=\"append\", index=False)"
   ]
  },
  {
   "cell_type": "code",
   "execution_count": null,
   "id": "d6447f69",
   "metadata": {},
   "outputs": [],
   "source": []
  }
 ],
 "metadata": {
  "kernelspec": {
   "display_name": "web",
   "language": "python",
   "name": "python3"
  },
  "language_info": {
   "codemirror_mode": {
    "name": "ipython",
    "version": 3
   },
   "file_extension": ".py",
   "mimetype": "text/x-python",
   "name": "python",
   "nbconvert_exporter": "python",
   "pygments_lexer": "ipython3",
   "version": "3.13.5"
  }
 },
 "nbformat": 4,
 "nbformat_minor": 5
}
