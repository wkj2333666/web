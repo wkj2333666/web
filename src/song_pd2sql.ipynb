{
 "cells": [
  {
   "cell_type": "code",
   "execution_count": 9,
   "id": "0450755a",
   "metadata": {},
   "outputs": [],
   "source": [
    "import numpy as np\n",
    "import pandas as pd\n",
    "import re\n",
    "import requests\n",
    "import lxml\n",
    "from bs4 import BeautifulSoup as bs\n",
    "from tqdm import tqdm\n",
    "import time\n",
    "import config\n",
    "import sqlite3\n",
    "import json"
   ]
  },
  {
   "cell_type": "code",
   "execution_count": 10,
   "id": "97c0ee14",
   "metadata": {},
   "outputs": [],
   "source": [
    "src_file = config.WORKSPACE + 'data/song_info.json'\n",
    "df = pd.read_json(src_file, lines=True, orient='records')\n",
    "conn = sqlite3.Connection(\"../TestWeb/db.sqlite3\")\n",
    "table_name = 'SongInfo_song_info'"
   ]
  },
  {
   "cell_type": "code",
   "execution_count": 11,
   "id": "600e1308",
   "metadata": {},
   "outputs": [],
   "source": [
    "df.drop(['img_url'], axis=1, inplace=True)"
   ]
  },
  {
   "cell_type": "code",
   "execution_count": 12,
   "id": "b07df051",
   "metadata": {},
   "outputs": [],
   "source": [
    "df['singers'] = df['singers'].apply(json.dumps, ensure_ascii=False)\n",
    "df['comments'] = df['comments'].apply(json.dumps, ensure_ascii=False)"
   ]
  },
  {
   "cell_type": "code",
   "execution_count": 13,
   "id": "06a65d62",
   "metadata": {},
   "outputs": [
    {
     "data": {
      "text/html": [
       "<div>\n",
       "<style scoped>\n",
       "    .dataframe tbody tr th:only-of-type {\n",
       "        vertical-align: middle;\n",
       "    }\n",
       "\n",
       "    .dataframe tbody tr th {\n",
       "        vertical-align: top;\n",
       "    }\n",
       "\n",
       "    .dataframe thead th {\n",
       "        text-align: right;\n",
       "    }\n",
       "</style>\n",
       "<table border=\"1\" class=\"dataframe\">\n",
       "  <thead>\n",
       "    <tr style=\"text-align: right;\">\n",
       "      <th></th>\n",
       "      <th>song_id</th>\n",
       "      <th>singers</th>\n",
       "      <th>song_name</th>\n",
       "      <th>lyric</th>\n",
       "      <th>comments</th>\n",
       "    </tr>\n",
       "  </thead>\n",
       "  <tbody>\n",
       "    <tr>\n",
       "      <th>0</th>\n",
       "      <td>63637</td>\n",
       "      <td>[{\"singer_name\": \"陈小春\", \"singer_id\": 2112}]</td>\n",
       "      <td>别碰我的人</td>\n",
       "      <td>作词 : 黎明\\n 作曲 : 雷颂德\\n 编曲 : 雷颂德\\n 监制 : 雷颂德\\n主唱：...</td>\n",
       "      <td>[{\"name\": \"苏湾\", \"content\": \"[大笑]\", \"time\": \"20...</td>\n",
       "    </tr>\n",
       "    <tr>\n",
       "      <th>1</th>\n",
       "      <td>63650</td>\n",
       "      <td>[{\"singer_name\": \"陈小春\", \"singer_id\": 2112}]</td>\n",
       "      <td>独家记忆</td>\n",
       "      <td>编曲 : Terry chan\\n 作词 : 易家扬\\n 作曲 : 陶昌廷\\n忘记分开后的...</td>\n",
       "      <td>[{\"name\": \"手笔的救赎\", \"content\": \"你将会是我的独家记忆\", \"t...</td>\n",
       "    </tr>\n",
       "    <tr>\n",
       "      <th>2</th>\n",
       "      <td>63661</td>\n",
       "      <td>[{\"singer_name\": \"陈小春\", \"singer_id\": 2112}]</td>\n",
       "      <td>我不是伟人</td>\n",
       "      <td>作曲 : 陶昌延\\n 编曲 : Terry Chan \\n 制作人 : 李安修\\n不肯祝你...</td>\n",
       "      <td>[{\"name\": \"此用户即将飞升\", \"content\": \"先听到的是粤语版的，总感觉...</td>\n",
       "    </tr>\n",
       "    <tr>\n",
       "      <th>3</th>\n",
       "      <td>63778</td>\n",
       "      <td>[{\"singer_name\": \"陈小春\", \"singer_id\": 2112}]</td>\n",
       "      <td>一定要幸福</td>\n",
       "      <td>作词 : 郑中庸\\n 作曲 : 周杰伦\\n 编曲 : 金培达\\n 制作人 : 包小松/包小...</td>\n",
       "      <td>[{\"name\": \"音耀\", \"content\": \"评论中看见了你，你能看见我么\", \"...</td>\n",
       "    </tr>\n",
       "    <tr>\n",
       "      <th>4</th>\n",
       "      <td>63787</td>\n",
       "      <td>[{\"singer_name\": \"陈小春\", \"singer_id\": 2112}]</td>\n",
       "      <td>我爱的人</td>\n",
       "      <td>作词 : 施人诚\\n 作曲 : 周杰伦\\n 编曲 : 吴庆隆\\n编曲 : 吴庆隆\\n我知道...</td>\n",
       "      <td>[{\"name\": \"frozen_mint\", \"content\": \"🍂\", \"time...</td>\n",
       "    </tr>\n",
       "    <tr>\n",
       "      <th>...</th>\n",
       "      <td>...</td>\n",
       "      <td>...</td>\n",
       "      <td>...</td>\n",
       "      <td>...</td>\n",
       "      <td>...</td>\n",
       "    </tr>\n",
       "    <tr>\n",
       "      <th>9039</th>\n",
       "      <td>2720118736</td>\n",
       "      <td>[{\"singer_name\": \"万妮达Vinida Weng\", \"singer_id\"...</td>\n",
       "      <td>Underdog (Live)</td>\n",
       "      <td>演唱 : 万妮达Vinida Weng/严浩翔\\n 作词 : 万妮达Vinida Weng...</td>\n",
       "      <td>[{\"name\": \"1xxxx-\", \"content\": \"这把我站underdog 妮...</td>\n",
       "    </tr>\n",
       "    <tr>\n",
       "      <th>9040</th>\n",
       "      <td>2720135358</td>\n",
       "      <td>[{\"singer_name\": \"KONI可妮\", \"singer_id\": 948238...</td>\n",
       "      <td>从前说 小阿七</td>\n",
       "      <td>还记得妈妈说陪一个男孩子长大要用\\n青春来做赌注\\n我要听着亲戚们的闲话\\n等你为我送来一束...</td>\n",
       "      <td>[{\"name\": \"美到不行的帅\", \"content\": \"这不是原唱？[生病]\", \"...</td>\n",
       "    </tr>\n",
       "    <tr>\n",
       "      <th>9041</th>\n",
       "      <td>2720146412</td>\n",
       "      <td>[{\"singer_name\": \"KONI可妮\", \"singer_id\": 948238...</td>\n",
       "      <td>上心 郑欣宜</td>\n",
       "      <td>无数夜晚我们看影碟\\n最爱喜剧内愉快结局\\n无数白昼午饭送恋曲\\n我最懂得知足还有点想哭\\n...</td>\n",
       "      <td>[]</td>\n",
       "    </tr>\n",
       "    <tr>\n",
       "      <th>9042</th>\n",
       "      <td>2720164853</td>\n",
       "      <td>[{\"singer_name\": \"摩登兄弟刘宇宁\", \"singer_id\": 10940...</td>\n",
       "      <td>以你之名</td>\n",
       "      <td>词 : 赵登凯\\n 曲 : 赵登凯\\n 编曲 : 赵明驰/许荣臻\\n 制作人 : 陈稷坤\\...</td>\n",
       "      <td>[{\"name\": \"Dandelion0108lyn\", \"content\": \"好好听\"...</td>\n",
       "    </tr>\n",
       "    <tr>\n",
       "      <th>9043</th>\n",
       "      <td>2720170690</td>\n",
       "      <td>[{\"singer_name\": \"无面小生\", \"singer_id\": 31347027}]</td>\n",
       "      <td>年上</td>\n",
       "      <td>作词：万乐体\\n作曲：万乐体\\n编曲： Cole先生\\n混音： wizkon子坤\\n出品：万...</td>\n",
       "      <td>[{\"name\": \"-幻想中的她\", \"content\": \"万宝\", \"time\": \"...</td>\n",
       "    </tr>\n",
       "  </tbody>\n",
       "</table>\n",
       "<p>9044 rows × 5 columns</p>\n",
       "</div>"
      ],
      "text/plain": [
       "         song_id                                            singers  \\\n",
       "0          63637        [{\"singer_name\": \"陈小春\", \"singer_id\": 2112}]   \n",
       "1          63650        [{\"singer_name\": \"陈小春\", \"singer_id\": 2112}]   \n",
       "2          63661        [{\"singer_name\": \"陈小春\", \"singer_id\": 2112}]   \n",
       "3          63778        [{\"singer_name\": \"陈小春\", \"singer_id\": 2112}]   \n",
       "4          63787        [{\"singer_name\": \"陈小春\", \"singer_id\": 2112}]   \n",
       "...          ...                                                ...   \n",
       "9039  2720118736  [{\"singer_name\": \"万妮达Vinida Weng\", \"singer_id\"...   \n",
       "9040  2720135358  [{\"singer_name\": \"KONI可妮\", \"singer_id\": 948238...   \n",
       "9041  2720146412  [{\"singer_name\": \"KONI可妮\", \"singer_id\": 948238...   \n",
       "9042  2720164853  [{\"singer_name\": \"摩登兄弟刘宇宁\", \"singer_id\": 10940...   \n",
       "9043  2720170690   [{\"singer_name\": \"无面小生\", \"singer_id\": 31347027}]   \n",
       "\n",
       "            song_name                                              lyric  \\\n",
       "0               别碰我的人   作词 : 黎明\\n 作曲 : 雷颂德\\n 编曲 : 雷颂德\\n 监制 : 雷颂德\\n主唱：...   \n",
       "1                独家记忆   编曲 : Terry chan\\n 作词 : 易家扬\\n 作曲 : 陶昌廷\\n忘记分开后的...   \n",
       "2               我不是伟人   作曲 : 陶昌延\\n 编曲 : Terry Chan \\n 制作人 : 李安修\\n不肯祝你...   \n",
       "3               一定要幸福   作词 : 郑中庸\\n 作曲 : 周杰伦\\n 编曲 : 金培达\\n 制作人 : 包小松/包小...   \n",
       "4                我爱的人   作词 : 施人诚\\n 作曲 : 周杰伦\\n 编曲 : 吴庆隆\\n编曲 : 吴庆隆\\n我知道...   \n",
       "...               ...                                                ...   \n",
       "9039  Underdog (Live)   演唱 : 万妮达Vinida Weng/严浩翔\\n 作词 : 万妮达Vinida Weng...   \n",
       "9040          从前说 小阿七  还记得妈妈说陪一个男孩子长大要用\\n青春来做赌注\\n我要听着亲戚们的闲话\\n等你为我送来一束...   \n",
       "9041           上心 郑欣宜  无数夜晚我们看影碟\\n最爱喜剧内愉快结局\\n无数白昼午饭送恋曲\\n我最懂得知足还有点想哭\\n...   \n",
       "9042             以你之名   词 : 赵登凯\\n 曲 : 赵登凯\\n 编曲 : 赵明驰/许荣臻\\n 制作人 : 陈稷坤\\...   \n",
       "9043               年上  作词：万乐体\\n作曲：万乐体\\n编曲： Cole先生\\n混音： wizkon子坤\\n出品：万...   \n",
       "\n",
       "                                               comments  \n",
       "0     [{\"name\": \"苏湾\", \"content\": \"[大笑]\", \"time\": \"20...  \n",
       "1     [{\"name\": \"手笔的救赎\", \"content\": \"你将会是我的独家记忆\", \"t...  \n",
       "2     [{\"name\": \"此用户即将飞升\", \"content\": \"先听到的是粤语版的，总感觉...  \n",
       "3     [{\"name\": \"音耀\", \"content\": \"评论中看见了你，你能看见我么\", \"...  \n",
       "4     [{\"name\": \"frozen_mint\", \"content\": \"🍂\", \"time...  \n",
       "...                                                 ...  \n",
       "9039  [{\"name\": \"1xxxx-\", \"content\": \"这把我站underdog 妮...  \n",
       "9040  [{\"name\": \"美到不行的帅\", \"content\": \"这不是原唱？[生病]\", \"...  \n",
       "9041                                                 []  \n",
       "9042  [{\"name\": \"Dandelion0108lyn\", \"content\": \"好好听\"...  \n",
       "9043  [{\"name\": \"-幻想中的她\", \"content\": \"万宝\", \"time\": \"...  \n",
       "\n",
       "[9044 rows x 5 columns]"
      ]
     },
     "execution_count": 13,
     "metadata": {},
     "output_type": "execute_result"
    }
   ],
   "source": [
    "df"
   ]
  },
  {
   "cell_type": "code",
   "execution_count": 14,
   "id": "cc27307f",
   "metadata": {},
   "outputs": [
    {
     "data": {
      "text/plain": [
       "9044"
      ]
     },
     "execution_count": 14,
     "metadata": {},
     "output_type": "execute_result"
    }
   ],
   "source": [
    "df.to_sql(table_name, con=conn, if_exists=\"append\", index=False)"
   ]
  },
  {
   "cell_type": "code",
   "execution_count": null,
   "id": "d6447f69",
   "metadata": {},
   "outputs": [],
   "source": []
  }
 ],
 "metadata": {
  "kernelspec": {
   "display_name": "web",
   "language": "python",
   "name": "python3"
  },
  "language_info": {
   "codemirror_mode": {
    "name": "ipython",
    "version": 3
   },
   "file_extension": ".py",
   "mimetype": "text/x-python",
   "name": "python",
   "nbconvert_exporter": "python",
   "pygments_lexer": "ipython3",
   "version": "3.13.5"
  }
 },
 "nbformat": 4,
 "nbformat_minor": 5
}
