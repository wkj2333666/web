{
 "cells": [
  {
   "cell_type": "code",
   "execution_count": null,
   "id": "cbb4362b",
   "metadata": {},
   "outputs": [],
   "source": [
    "import numpy as np\n",
    "import pandas as pd\n",
    "import re\n",
    "import requests\n",
    "import lxml\n",
    "from bs4 import BeautifulSoup as bs\n",
    "from tqdm import tqdm\n",
    "import time\n",
    "import config"
   ]
  },
  {
   "cell_type": "code",
   "execution_count": null,
   "id": "3fe9aac7",
   "metadata": {},
   "outputs": [
    {
     "data": {
      "text/html": [
       "<div>\n",
       "<style scoped>\n",
       "    .dataframe tbody tr th:only-of-type {\n",
       "        vertical-align: middle;\n",
       "    }\n",
       "\n",
       "    .dataframe tbody tr th {\n",
       "        vertical-align: top;\n",
       "    }\n",
       "\n",
       "    .dataframe thead th {\n",
       "        text-align: right;\n",
       "    }\n",
       "</style>\n",
       "<table border=\"1\" class=\"dataframe\">\n",
       "  <thead>\n",
       "    <tr style=\"text-align: right;\">\n",
       "      <th></th>\n",
       "      <th>歌手</th>\n",
       "      <th>链接</th>\n",
       "    </tr>\n",
       "  </thead>\n",
       "  <tbody>\n",
       "    <tr>\n",
       "      <th>0</th>\n",
       "      <td>林俊杰</td>\n",
       "      <td>https://music.163.com/artist?id=3684</td>\n",
       "    </tr>\n",
       "    <tr>\n",
       "      <th>1</th>\n",
       "      <td>陈奕迅</td>\n",
       "      <td>https://music.163.com/artist?id=2116</td>\n",
       "    </tr>\n",
       "    <tr>\n",
       "      <th>2</th>\n",
       "      <td>郑润泽</td>\n",
       "      <td>https://music.163.com/artist?id=29051613</td>\n",
       "    </tr>\n",
       "    <tr>\n",
       "      <th>3</th>\n",
       "      <td>颜人中</td>\n",
       "      <td>https://music.163.com/artist?id=31376161</td>\n",
       "    </tr>\n",
       "    <tr>\n",
       "      <th>4</th>\n",
       "      <td>汪苏泷</td>\n",
       "      <td>https://music.163.com/artist?id=5538</td>\n",
       "    </tr>\n",
       "    <tr>\n",
       "      <th>...</th>\n",
       "      <td>...</td>\n",
       "      <td>...</td>\n",
       "    </tr>\n",
       "    <tr>\n",
       "      <th>95</th>\n",
       "      <td>THOME</td>\n",
       "      <td>https://music.163.com/artist?id=12110173</td>\n",
       "    </tr>\n",
       "    <tr>\n",
       "      <th>96</th>\n",
       "      <td>刘思达LOFTHESTAR</td>\n",
       "      <td>https://music.163.com/artist?id=12030367</td>\n",
       "    </tr>\n",
       "    <tr>\n",
       "      <th>97</th>\n",
       "      <td>杨和苏KeyNG</td>\n",
       "      <td>https://music.163.com/artist?id=13899303</td>\n",
       "    </tr>\n",
       "    <tr>\n",
       "      <th>98</th>\n",
       "      <td>MC HotDog 热狗</td>\n",
       "      <td>https://music.163.com/artist?id=4479</td>\n",
       "    </tr>\n",
       "    <tr>\n",
       "      <th>99</th>\n",
       "      <td>就是南方凯</td>\n",
       "      <td>https://music.163.com/artist?id=46360442</td>\n",
       "    </tr>\n",
       "  </tbody>\n",
       "</table>\n",
       "<p>100 rows × 2 columns</p>\n",
       "</div>"
      ],
      "text/plain": [
       "               歌手                                        链接\n",
       "0             林俊杰      https://music.163.com/artist?id=3684\n",
       "1             陈奕迅      https://music.163.com/artist?id=2116\n",
       "2             郑润泽  https://music.163.com/artist?id=29051613\n",
       "3             颜人中  https://music.163.com/artist?id=31376161\n",
       "4             汪苏泷      https://music.163.com/artist?id=5538\n",
       "..            ...                                       ...\n",
       "95          THOME  https://music.163.com/artist?id=12110173\n",
       "96  刘思达LOFTHESTAR  https://music.163.com/artist?id=12030367\n",
       "97       杨和苏KeyNG  https://music.163.com/artist?id=13899303\n",
       "98   MC HotDog 热狗      https://music.163.com/artist?id=4479\n",
       "99          就是南方凯  https://music.163.com/artist?id=46360442\n",
       "\n",
       "[100 rows x 2 columns]"
      ]
     },
     "execution_count": 52,
     "metadata": {},
     "output_type": "execute_result"
    }
   ],
   "source": [
    "sex = \"男歌手\"\n",
    "df_singers = pd.read_csv(rf\"../data/{sex}.csv\")\n",
    "df_singers"
   ]
  },
  {
   "cell_type": "code",
   "execution_count": null,
   "id": "1bea66ea",
   "metadata": {},
   "outputs": [],
   "source": [
    "# dict_songs = dict()\n",
    "df_songs = pd.DataFrame({\"singer\": [], \"song_name\": [], \"song_link\": []})\n",
    "tqdm.pandas()\n",
    "\n",
    "\n",
    "def get_songs(row):\n",
    "    response = requests.get(\n",
    "        url=row.链接, headers=config.HEADERS, params={}, cookies=config.COOKIES\n",
    "    )\n",
    "    soup = bs(response.text, \"lxml\")\n",
    "    # print(soup.prettify())\n",
    "    # pbar = tqdm.get_lock().get_instances()[0]\n",
    "    # pbar.set_description_str(f'processing {row.歌手}')\n",
    "\n",
    "    song_names = [\n",
    "        song.text for song in soup.find_all(\"a\", href=re.compile(r\"/song\\?id=\\d\"))\n",
    "    ]\n",
    "    song_links = [\n",
    "        r\"https://music.163.com\" + song[\"href\"]\n",
    "        for song in soup.find_all(\"a\", href=re.compile(r\"/song\\?id=\\d\"))\n",
    "    ]\n",
    "\n",
    "    global df_songs\n",
    "    df_songs = pd.concat(\n",
    "        [\n",
    "            df_songs,\n",
    "            pd.DataFrame(\n",
    "                {\n",
    "                    \"singer\": [row.歌手 for _ in range(len(song_names))],\n",
    "                    \"song_name\": song_names,\n",
    "                    \"song_link\": song_links,\n",
    "                }\n",
    "            ),\n",
    "        ],\n",
    "        ignore_index=True,\n",
    "    )\n",
    "    # return df_songs_new\n",
    "    # time.sleep(2.0)"
   ]
  },
  {
   "cell_type": "code",
   "execution_count": 54,
   "id": "bb1d71f2",
   "metadata": {},
   "outputs": [
    {
     "name": "stderr",
     "output_type": "stream",
     "text": [
      "100%|██████████| 100/100 [01:04<00:00,  1.54it/s]\n"
     ]
    },
    {
     "data": {
      "text/plain": [
       "0     None\n",
       "1     None\n",
       "2     None\n",
       "3     None\n",
       "4     None\n",
       "      ... \n",
       "95    None\n",
       "96    None\n",
       "97    None\n",
       "98    None\n",
       "99    None\n",
       "Length: 100, dtype: object"
      ]
     },
     "execution_count": 54,
     "metadata": {},
     "output_type": "execute_result"
    }
   ],
   "source": [
    "df_singers.progress_apply(get_songs, axis=1)"
   ]
  },
  {
   "cell_type": "code",
   "execution_count": null,
   "id": "83eaf944",
   "metadata": {},
   "outputs": [],
   "source": [
    "df_songs.to_csv(rf\"../data/{sex}歌曲.csv\", header=True, index=False)"
   ]
  },
  {
   "cell_type": "code",
   "execution_count": null,
   "id": "5a3836e4",
   "metadata": {},
   "outputs": [],
   "source": []
  }
 ],
 "metadata": {
  "kernelspec": {
   "display_name": "web",
   "language": "python",
   "name": "python3"
  },
  "language_info": {
   "codemirror_mode": {
    "name": "ipython",
    "version": 3
   },
   "file_extension": ".py",
   "mimetype": "text/x-python",
   "name": "python",
   "nbconvert_exporter": "python",
   "pygments_lexer": "ipython3",
   "version": "3.13.5"
  }
 },
 "nbformat": 4,
 "nbformat_minor": 5
}
