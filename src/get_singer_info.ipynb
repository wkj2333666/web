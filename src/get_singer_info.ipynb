{
 "cells": [
  {
   "cell_type": "code",
   "execution_count": 41,
   "id": "0d9ee878",
   "metadata": {},
   "outputs": [],
   "source": [
    "import re\n",
    "import requests\n",
    "from bs4 import BeautifulSoup as bs\n",
    "from tqdm import tqdm\n",
    "import numpy as np\n",
    "import pandas as pd\n",
    "import lxml\n",
    "import time\n",
    "import config\n",
    "\n",
    "# 加密函数\n",
    "from pyncm.utils.crypto import WeapiEncrypt"
   ]
  },
  {
   "cell_type": "code",
   "execution_count": 42,
   "id": "0dcbc743",
   "metadata": {},
   "outputs": [],
   "source": [
    "df_songs = pd.read_csv('../data/raw_songs.csv')"
   ]
  },
  {
   "cell_type": "code",
   "execution_count": null,
   "id": "8b99e42e",
   "metadata": {},
   "outputs": [],
   "source": [
    "def get_song_info(row):\n",
    "    original_url = config.SONG_ORG_URL_PRE + row.song_id\n",
    "    response = requests.get(url=original_url,\n",
    "                            headers=config.HEADERS,\n",
    "                            cookies=config.COOKIES,\n",
    "                            params={})\n",
    "    soup = bs(response.text, 'lxml')\n",
    "    song_img_link = soup.find('img', class_='j-img')['data-src']\n",
    "\n",
    "    # get lyrics, using EncryptFunction from pyncm\n",
    "    song_lyric_link = config.LYRIC_URL_PRE + config.COOKIES['__csrf']\n",
    "    data = {\n",
    "        'id': row.song_id,\n",
    "        'lv': -1,\n",
    "        'tv': -1,\n",
    "        'csrf_token': config.COOKIES['__csrf']\n",
    "    }\n",
    "    enc_data = WeapiEncrypt(data)\n",
    "    lyric_response = requests.post(url=song_lyric_link,\n",
    "                                   headers=config.HEADERS,\n",
    "                                   cookies=config.COOKIES,\n",
    "                                   data=enc_data)\n",
    "    lyric_soup = bs(lyric_response.txt, 'lxml')\n",
    "    \n",
    "    "
   ]
  },
  {
   "cell_type": "code",
   "execution_count": 44,
   "id": "0118b960",
   "metadata": {},
   "outputs": [],
   "source": [
    "url = 'https://music.163.com/song?id=1394123837'\n",
    "response = requests.get(url=url,\n",
    "                        headers=config.HEADERS,\n",
    "                        cookies=config.COOKIES,\n",
    "                        params={})\n",
    "soup = bs(response.text, 'lxml')\n"
   ]
  },
  {
   "cell_type": "code",
   "execution_count": 45,
   "id": "4b31499e",
   "metadata": {},
   "outputs": [],
   "source": [
    "song_img_link = soup.find('img', class_='j-img')['data-src']"
   ]
  },
  {
   "cell_type": "code",
   "execution_count": 46,
   "id": "39e927f1",
   "metadata": {},
   "outputs": [],
   "source": [
    "# config.COOKIES['__csrf']\n",
    "song_lyric_link = config.LYRIC_URL_PREFIX + config.COOKIES['__csrf']"
   ]
  },
  {
   "cell_type": "code",
   "execution_count": 47,
   "id": "d11b13e6",
   "metadata": {},
   "outputs": [],
   "source": [
    "# 使用pyncm获取加密参数\n",
    "data = {\n",
    "    'id': '1394123837',\n",
    "    'lv': -1,\n",
    "    'tv': -1,\n",
    "    'csrf_token': config.COOKIES['__csrf']\n",
    "}\n",
    "enc_data = WeapiEncrypt(data)"
   ]
  },
  {
   "cell_type": "code",
   "execution_count": 48,
   "id": "07ed71b2",
   "metadata": {},
   "outputs": [],
   "source": [
    "lyric_response = requests.post(url=song_lyric_link,\n",
    "                               headers=config.HEADERS,\n",
    "                               cookies=config.COOKIES,\n",
    "                               data=enc_data)"
   ]
  },
  {
   "cell_type": "code",
   "execution_count": null,
   "id": "7b6810e0",
   "metadata": {},
   "outputs": [
    {
     "data": {
      "text/plain": [
       "'{\"sgc\":false,\"sfy\":false,\"qfy\":false,\"lrc\":{\"version\":84,\"lyric\":\"[00:00.000] 作词 : 杨和苏KeyNG\\\\n[00:01.000] 作曲 : 杨和苏KeyNG/陈令韬\\\\n[00:02.000] 编曲 : 陈令韬\\\\n[00:03.000] 制作人 : 陈令韬/杨和苏KeyNG\\\\n[00:20.820](1949年):\\\\n[00:22.660]我看着跟前这个漂亮女孩\\\\n[00:24.410]想起数年前 我鼓起勇气向她表白\\\\n[00:26.770]现在回想起来 虽然这一路上很辛 苦\\\\n[00:29.440]但幸 福的是 如今身边 多了几个小孩\\\\n[00:32.150]我希望今年家里 能有更 多的收 获\\\\n[00:34.440]让孩子不只是在周末 才能打牙祭\\\\n[00:36.940]我希望他们都能快点长大\\\\n[00:38.880]有自 己的想法 最好比我还有文化\\\\n[00:41.539]我喜欢喝茶 但我最大的兴趣\\\\n[00:43.803]是每周留个三 毛钱 去看京剧\\\\n[00:46.300]我喜欢梅兰芳 他是我的男神\\\\n[00:48.415]在“贵妃醉酒”里的他真的很迷人\\\\n[00:51.091]我信仰和平 我相信正义\\\\n[00:53.455]我希望全世界的人民同舟共济\\\\n[00:55.831]当五星红 旗 在天安门冉冉升起\\\\n[00:58.355]1949年 是中国人的胜利\\\\n[01:01.340]你是否还记得 第一次\\\\n[01:06.629]行走  在“她”的美丽土地上\\\\n[01:10.549]你是否曾注意过 多少年\\\\n[01:16.150]之后 “她”还是陪在你左右\\\\n[01:20.711]Wu~~\\\\n[01:25.211]“她”爱着你 你也深爱着“她”\\\\n[01:27.201]“她”给了你第一个温暖的家\\\\n[01:29.820]Wu~~\\\\n[01:34.431]和我一起站在“她”的身边\\\\n[01:36.718]陪着“她”度过下一个70周年\\\\n[01:39.431]（1979年):\\\\n[01:39.940]我想穿 上最帅气的西服\\\\n[01:41.477]跟我心 怡的女孩跳支交谊舞\\\\n[01:43.760]请你跟上我那飘 逸的脚步 蹦擦擦\\\\n[01:46.900]让我欣赏你的每一个角 度\\\\n[01:48.791]我想陪我老爸去坐一次飞机\\\\n[01:50.821]到北京 去参观梅兰芳老师的故居\\\\n[01:53.083]我想到部 队的文工团 里演样板戏\\\\n[01:55.980]演我最爱的沙家浜 和红灯记\\\\n[01:58.343]我喜欢和 我的朋友谈论理想\\\\n[02:00.742]因为对未 来总是充满了希望\\\\n[02:02.784]我们做着父 辈们想 也不敢 想的事\\\\n[02:05.486]新一代 的力 量不可以被估 量\\\\n[02:07.948]不 妨 到北京的街头 转转\\\\n[02:10.387]看看 大国崛起前 的迹象\\\\n[02:12.715]再从四 川的乡间一路到东北\\\\n[02:15.016]1979年 改革开放的大风吹\\\\n[02:18.096]你是否还记得 第一次\\\\n[02:22.926]行走  在“她”的美丽土地上\\\\n[02:27.268]你是否曾注意过 多少年\\\\n[02:32.849]之后 “她”还是陪在你左右\\\\n[02:37.328]Wu~~\\\\n[02:41.908]“她”爱着你 你也深爱着“她”\\\\n[02:43.960]“她”给了你第一个温暖的家\\\\n[02:46.609]Wu~~\\\\n[02:51.629]和我一起站在“她”的身边\\\\n[02:53.547]陪着“她”度过下一个70周年\\\\n[02:56.155](2019年):\\\\n[02:56.506]我想带 着你去周游世界\\\\n[02:58.256]和你腻在一起 在每一个日夜\\\\n[03:00.495]我想要拉 着你的手 去逛太 古里\\\\n[03:03.086]让你知 道在我心里 我只在乎你\\\\n[03:05.205]虽然每 天的生活还挺忙碌\\\\n[03:07.685]但我做的事情 那绝对非常酷\\\\n[03:10.105]我想让华 语乐坛变得更多种多样\\\\n[03:12.536]我的说唱 有一天能在全国播放 aye\\\\n[03:15.986]偶尔也会想家\\\\n[03:17.486]但我知道我需要变得更强大\\\\n[03:19.798]儿时的伙伴也长大了 不再邋里邋遢\\\\n[03:22.268]有了新的工作在腾讯 和阿里巴巴 aye\\\\n[03:26.238]这条 东方的巨龙\\\\n[03:27.699]早已蓄势待发 准备飞上天空\\\\n[03:29.649]看清每一张黄皮 肤的面孔\\\\n[03:32.038]2019年 要成为世界的先锋\\\\n[03:34.738]你是否还记得 第一次\\\\n[03:40.050]行走  在“她”的美丽土地上\\\\n[03:44.101]你是否曾注意过 多少年\\\\n[03:49.516]之后 “她”还是陪在你左右\\\\n[03:54.316]Wu~~\\\\n[03:58.726]“她”爱着你 你也深爱着“她”\\\\n[04:00.766]“她”给了你第一个温暖的家\\\\n[04:03.506]Wu~~\\\\n[04:08.395]和我一起站在“她”的身边\\\\n[04:10.336]陪着“她”度过下一个70周年\\\\n[04:14.465]“她”的名字就是——中国\\\\n[04:21.355]\\\\n[04:22.899]录音室：Tweak Tone Labs\\\\n[04:23.899]混音室：423hz Studio\\\\n[04:23.939]制作人：陈令韬/杨和苏\\\\n[04:24.759]监制：陈令韬\\\\n[04:25.319]吉他：高飞\\\\n[04:25.639]混音：李金城\\\\n[04:25.839]混音监制：陈令韬\\\\n[04:25.870]母带：李金城\\\\n[04:26.660]录音师：刘晶晶\\\\n[04:27.519]音频编辑：刘晶晶\\\\n\"},\"tlyric\":{\"version\":0,\"lyric\":\"\"},\"code\":200}'"
      ]
     },
     "execution_count": 49,
     "metadata": {},
     "output_type": "execute_result"
    }
   ],
   "source": [
    "lyric_soup = bs"
   ]
  },
  {
   "cell_type": "code",
   "execution_count": null,
   "id": "13e7e0f5",
   "metadata": {},
   "outputs": [],
   "source": []
  }
 ],
 "metadata": {
  "kernelspec": {
   "display_name": "web",
   "language": "python",
   "name": "python3"
  },
  "language_info": {
   "codemirror_mode": {
    "name": "ipython",
    "version": 3
   },
   "file_extension": ".py",
   "mimetype": "text/x-python",
   "name": "python",
   "nbconvert_exporter": "python",
   "pygments_lexer": "ipython3",
   "version": "3.13.5"
  }
 },
 "nbformat": 4,
 "nbformat_minor": 5
}
