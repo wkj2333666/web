{
 "cells": [
  {
   "cell_type": "code",
   "execution_count": 8,
   "id": "cbb4362b",
   "metadata": {},
   "outputs": [],
   "source": [
    "import numpy as np\n",
    "import pandas as pd\n",
    "import re\n",
    "import requests\n",
    "import lxml\n",
    "from bs4 import BeautifulSoup as bs\n",
    "from tqdm import tqdm\n"
   ]
  },
  {
   "cell_type": "code",
   "execution_count": 6,
   "id": "3fe9aac7",
   "metadata": {},
   "outputs": [
    {
     "data": {
      "text/html": [
       "<div>\n",
       "<style scoped>\n",
       "    .dataframe tbody tr th:only-of-type {\n",
       "        vertical-align: middle;\n",
       "    }\n",
       "\n",
       "    .dataframe tbody tr th {\n",
       "        vertical-align: top;\n",
       "    }\n",
       "\n",
       "    .dataframe thead th {\n",
       "        text-align: right;\n",
       "    }\n",
       "</style>\n",
       "<table border=\"1\" class=\"dataframe\">\n",
       "  <thead>\n",
       "    <tr style=\"text-align: right;\">\n",
       "      <th></th>\n",
       "      <th>歌手</th>\n",
       "      <th>链接</th>\n",
       "    </tr>\n",
       "  </thead>\n",
       "  <tbody>\n",
       "    <tr>\n",
       "      <th>0</th>\n",
       "      <td>林俊杰</td>\n",
       "      <td>https://music.163.com/artist?id=3684</td>\n",
       "    </tr>\n",
       "    <tr>\n",
       "      <th>1</th>\n",
       "      <td>陈奕迅</td>\n",
       "      <td>https://music.163.com/artist?id=2116</td>\n",
       "    </tr>\n",
       "    <tr>\n",
       "      <th>2</th>\n",
       "      <td>郑润泽</td>\n",
       "      <td>https://music.163.com/artist?id=29051613</td>\n",
       "    </tr>\n",
       "    <tr>\n",
       "      <th>3</th>\n",
       "      <td>颜人中</td>\n",
       "      <td>https://music.163.com/artist?id=31376161</td>\n",
       "    </tr>\n",
       "    <tr>\n",
       "      <th>4</th>\n",
       "      <td>汪苏泷</td>\n",
       "      <td>https://music.163.com/artist?id=5538</td>\n",
       "    </tr>\n",
       "    <tr>\n",
       "      <th>...</th>\n",
       "      <td>...</td>\n",
       "      <td>...</td>\n",
       "    </tr>\n",
       "    <tr>\n",
       "      <th>95</th>\n",
       "      <td>THOME</td>\n",
       "      <td>https://music.163.com/artist?id=12110173</td>\n",
       "    </tr>\n",
       "    <tr>\n",
       "      <th>96</th>\n",
       "      <td>刘思达LOFTHESTAR</td>\n",
       "      <td>https://music.163.com/artist?id=12030367</td>\n",
       "    </tr>\n",
       "    <tr>\n",
       "      <th>97</th>\n",
       "      <td>杨和苏KeyNG</td>\n",
       "      <td>https://music.163.com/artist?id=13899303</td>\n",
       "    </tr>\n",
       "    <tr>\n",
       "      <th>98</th>\n",
       "      <td>MC HotDog 热狗</td>\n",
       "      <td>https://music.163.com/artist?id=4479</td>\n",
       "    </tr>\n",
       "    <tr>\n",
       "      <th>99</th>\n",
       "      <td>就是南方凯</td>\n",
       "      <td>https://music.163.com/artist?id=46360442</td>\n",
       "    </tr>\n",
       "  </tbody>\n",
       "</table>\n",
       "<p>100 rows × 2 columns</p>\n",
       "</div>"
      ],
      "text/plain": [
       "               歌手                                        链接\n",
       "0             林俊杰      https://music.163.com/artist?id=3684\n",
       "1             陈奕迅      https://music.163.com/artist?id=2116\n",
       "2             郑润泽  https://music.163.com/artist?id=29051613\n",
       "3             颜人中  https://music.163.com/artist?id=31376161\n",
       "4             汪苏泷      https://music.163.com/artist?id=5538\n",
       "..            ...                                       ...\n",
       "95          THOME  https://music.163.com/artist?id=12110173\n",
       "96  刘思达LOFTHESTAR  https://music.163.com/artist?id=12030367\n",
       "97       杨和苏KeyNG  https://music.163.com/artist?id=13899303\n",
       "98   MC HotDog 热狗      https://music.163.com/artist?id=4479\n",
       "99          就是南方凯  https://music.163.com/artist?id=46360442\n",
       "\n",
       "[100 rows x 2 columns]"
      ]
     },
     "execution_count": 6,
     "metadata": {},
     "output_type": "execute_result"
    }
   ],
   "source": [
    "sex = '男歌手'\n",
    "df_singers = pd.read_csv(rf'./{sex}.csv')\n",
    "df_singers"
   ]
  },
  {
   "cell_type": "code",
   "execution_count": null,
   "id": "1bea66ea",
   "metadata": {},
   "outputs": [],
   "source": [
    "dict_songs = dict()\n",
    "headers = {\n",
    "    \"User-Agent\": \"Mozilla/5.0 (X11; Linux x86_64; rv:140.0) Gecko/20100101 Firefox/140.0\",\n",
    "    \"Accept\": \"text/html,application/xhtml+xml,application/xml;q=0.9,*/*;q=0.8\",\n",
    "    \"Accept-Language\": \"en-US,en;q=0.5\",\n",
    "    \"Accept-Encoding\": \"utf-8\",\n",
    "    \"Connection\": \"keep-alive\",\n",
    "    \"Referer\": \"https://music.163.com/\",\n",
    "    \"Upgrade-Insecure-Requests\": \"1\",\n",
    "    \"Sec-Fetch-Dest\": \"iframe\",\n",
    "    \"Sec-Fetch-Mode\": \"navigate\",\n",
    "    \"Sec-Fetch-Site\": \"same-origin\",\n",
    "    \"Priority\": \"u=4\",\n",
    "    \"TE\": \"trailers\"\n",
    "}\n",
    "cookies = {\n",
    "    '__csrf'         :  \"e69faeccd93a14d89ccd4adaed646804\",\n",
    "    '__snaker__id'\t :  \"2mTQGljb7kvL842G\",\n",
    "    '_iuqxldmzr_'\t :  \"32\",\n",
    "    '_ntes_nnid'\t :  \"fafe5ac96e2d4ae498fca20fb41d0dc8,1750860195486\",\n",
    "    '_ntes_nuid'\t :  \"fafe5ac96e2d4ae498fca20fb41d0dc8\",\n",
    "    'csrfToken'\t     :  \"ZfVV9cRIAgXWdd56noaXflY5\",\n",
    "    'gdxidpyhxdE'    :  \"hdVn9iYxQt1EMBRLipauqgUfVzM6lPgrSSoG\\\\+zGqsAwfCAGW39rntkGIwURsvnva9dtvT1PmnCL0ZdWe6BZAIbp2/vQXwWLKXHOUaEpQ/kK8e3Oix0ahXu/M8NR+wlg1fLm1dgtjwcbJ+1glTs92oYxfqZjluGpHymRHPKqE2zzySO+:1751019940224\",\n",
    "    'JSESSIONID-WYYY':\t\"2+\\\\uNX25zzTYHlkjgvte3U27lslNxjixte4Gh\\\\C\\\\5x3G6SqQCfmGENW3Xg9gjzipo/s0ukj5v2QT88DDdP9opdk2C42SwXfMd1dTyOcs64U/X9zGQPFOr8mryUCQDoPQ5VSv/E3c9zabfkFSY4Yjscr97rWyMjGdkrdIqd8gg2a70yMM:1751019798915\",\n",
    "    'MUSIC_U'\t     :  \"0033B13615A496B22EB00B5690DBD70B1C27639A95C33DEACE4F002C5823958B4AD6E80C1E592F52622EF7C610D46FC0EE525B07ED1C1C2E8C53DA638256F623C34D96B308D77D2AE71EA670B6BE86C6B59B0B90BA1F7EA95B43AB07262247AA6768BBC881D3A2515829DAB90CDFA912AD39E243329B06F6FA64C5FE0662EBE4AABB271CA287A8F65A443E8B7F3CD9341059EA0A22A2C7601145605258AADE11F81C6DD9269AAE7065995D376DC350CB6EC128F06E262C117D1AD7AA18B31CDADCF4053789CC4B41FD69351188312281F9B7487559FC5ACB4BFE40E977345AB584E2D1BFFC33C0CD3BDB1C4B829A0F79DF01F3E4D6E0BD4EDDA491CD337FC3C3713BC912CE280DEFB1BCFA7A857E4B3A9243792B70A51DE516765201DEF46B15D1CD34EA4BA7A62B8A1C99F5409950212F\",\n",
    "    'NMTID'\t         :  \"00ORRrO9Mr7TBwzukUvj96KI48ymJUAAAGXp2Zncg\",\n",
    "    'ntes_kaola_ad'\t :  \"1\",\n",
    "    'ntes_utid'\t     :  \"tid._.%2BChCgTThg5lFUgARFRPTbsk%2FKGh6yRzI._.0\",\n",
    "    'sDeviceId'\t     :  \"YD-nekKbrguHYNEB0AQFEKCask+PDl/2Fyd\",\n",
    "    'WEVNSM'\t     :  \"1.0.0\",\n",
    "    'WM_NI'\t         :  \"Zy2YxEL2rvKOjuOuOQgVBpqV76Yt8FtEcS6pSTBSPDqYSl4lzTmO+Htb+b/xxv2gIgWtqXIWyd7iOFG0Exl1JLE6G/KgbpHCtznBIJ2g0ZCNqFH//cv1BuKp/hVyzq9rWXo=\",\n",
    "    'WM_NIKE'\t     :  \"9ca17ae2e6ffcda170e2e6eea2f97e9a958393db4e878e8fa3d85b879f9b86d26ef7a6a88ee1339abb8c84d02af0fea7c3b92a9aa7febafb4f90eebe97ca45aaab8196ce5ba58a8e91f45ef5ea9795bb4eb89badb4b57c918c8eb4d350b3879d8db768ba8ca3b0aa44b8bee583ae74bcaafe88cc6d95acbfb9cc5dbbbcf98ace4e85f08b99ef3b8a948bd7c62589b9ae91cb49b8a6a2a3cc42f2b900bbc246b39a88d0ae69b6ef8e96ca7cedb89a9af97bfbae99b9ee37e2a3\",\n",
    "    'WM_TID'\t     :  \"KA7NcHQUjuRFVERBRVPWL5x/LH0/T9Dy\",\n",
    "    'WNMCID'\t     :  \"aomccp.1750860197302.01.0\",\n",
    "}\n",
    "\n",
    "def get_songs(row):\n",
    "    song_url = row.链接\n",
    "    song_response = requests.get(url=song_url, headers=headers, cookies=cookies, params={})\n",
    "    \n",
    "\n",
    "    "
   ]
  },
  {
   "cell_type": "code",
   "execution_count": null,
   "id": "bb1d71f2",
   "metadata": {},
   "outputs": [
    {
     "name": "stderr",
     "output_type": "stream",
     "text": [
      "0it [00:00, ?it/s]\n"
     ]
    },
    {
     "ename": "TypeError",
     "evalue": "tuple indices must be integers or slices, not str",
     "output_type": "error",
     "traceback": [
      "\u001b[31m---------------------------------------------------------------------------\u001b[39m",
      "\u001b[31mTypeError\u001b[39m                                 Traceback (most recent call last)",
      "\u001b[36mCell\u001b[39m\u001b[36m \u001b[39m\u001b[32mIn[11]\u001b[39m\u001b[32m, line 3\u001b[39m\n\u001b[32m      1\u001b[39m df_songs = pd.DataFrame()\n\u001b[32m      2\u001b[39m \u001b[38;5;28;01mfor\u001b[39;00m row \u001b[38;5;129;01min\u001b[39;00m tqdm(df_singers.itertuples()):\n\u001b[32m----> \u001b[39m\u001b[32m3\u001b[39m     singer_url = \u001b[43mrow\u001b[49m\u001b[43m[\u001b[49m\u001b[33;43m'\u001b[39;49m\u001b[33;43m链接\u001b[39;49m\u001b[33;43m'\u001b[39;49m\u001b[43m]\u001b[49m\n\u001b[32m      4\u001b[39m     \u001b[38;5;28mprint\u001b[39m(singer_url)\n",
      "\u001b[31mTypeError\u001b[39m: tuple indices must be integers or slices, not str"
     ]
    }
   ],
   "source": [
    "# df_songs = pd.DataFrame()\n",
    "for row in tqdm(df_singers.itertuples(), desc=''):\n",
    "    singer_url = row.链接\n"
   ]
  },
  {
   "cell_type": "code",
   "execution_count": null,
   "id": "83eaf944",
   "metadata": {},
   "outputs": [],
   "source": []
  }
 ],
 "metadata": {
  "kernelspec": {
   "display_name": "web",
   "language": "python",
   "name": "python3"
  },
  "language_info": {
   "codemirror_mode": {
    "name": "ipython",
    "version": 3
   },
   "file_extension": ".py",
   "mimetype": "text/x-python",
   "name": "python",
   "nbconvert_exporter": "python",
   "pygments_lexer": "ipython3",
   "version": "3.13.5"
  }
 },
 "nbformat": 4,
 "nbformat_minor": 5
}
